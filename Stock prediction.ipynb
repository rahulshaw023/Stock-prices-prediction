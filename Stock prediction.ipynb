{
  "nbformat": 4,
  "nbformat_minor": 0,
  "metadata": {
    "colab": {
      "name": "Untitled4.ipynb",
      "provenance": []
    },
    "kernelspec": {
      "name": "python3",
      "display_name": "Python 3"
    }
  },
  "cells": [
    {
      "cell_type": "code",
      "metadata": {
        "id": "666MKC-oARTx",
        "colab_type": "code",
        "colab": {
          "base_uri": "https://localhost:8080/",
          "height": 34
        },
        "outputId": "073046b2-7f22-493c-ea22-0cc7557cd450"
      },
      "source": [
        "import numpy as np \n",
        "import pandas as pd\n",
        "\n",
        "from subprocess import check_output\n",
        "from keras.layers.core import Dense, Activation, Dropout\n",
        "from keras.layers.recurrent import LSTM\n",
        "from keras.models import Sequential\n",
        "from sklearn.model_selection import  train_test_split\n",
        "import time #helper libraries\n",
        "from sklearn.preprocessing import MinMaxScaler\n",
        "import matplotlib.pyplot as plt\n",
        "from numpy import newaxis"
      ],
      "execution_count": 23,
      "outputs": [
        {
          "output_type": "stream",
          "text": [
            "Using TensorFlow backend.\n"
          ],
          "name": "stderr"
        }
      ]
    },
    {
      "cell_type": "code",
      "metadata": {
        "id": "UZc6owkGBEWG",
        "colab_type": "code",
        "colab": {
          "base_uri": "https://localhost:8080/",
          "height": 204
        },
        "outputId": "d772e654-cb12-41fa-bda3-ad8142a6b4f1"
      },
      "source": [
        "df = pd.read_csv('prices.csv')\n",
        "df.head(5)"
      ],
      "execution_count": 8,
      "outputs": [
        {
          "output_type": "execute_result",
          "data": {
            "text/html": [
              "<div>\n",
              "<style scoped>\n",
              "    .dataframe tbody tr th:only-of-type {\n",
              "        vertical-align: middle;\n",
              "    }\n",
              "\n",
              "    .dataframe tbody tr th {\n",
              "        vertical-align: top;\n",
              "    }\n",
              "\n",
              "    .dataframe thead th {\n",
              "        text-align: right;\n",
              "    }\n",
              "</style>\n",
              "<table border=\"1\" class=\"dataframe\">\n",
              "  <thead>\n",
              "    <tr style=\"text-align: right;\">\n",
              "      <th></th>\n",
              "      <th>date</th>\n",
              "      <th>symbol</th>\n",
              "      <th>open</th>\n",
              "      <th>close</th>\n",
              "      <th>low</th>\n",
              "      <th>high</th>\n",
              "      <th>volume</th>\n",
              "    </tr>\n",
              "  </thead>\n",
              "  <tbody>\n",
              "    <tr>\n",
              "      <th>0</th>\n",
              "      <td>2016-01-05 00:00:00</td>\n",
              "      <td>WLTW</td>\n",
              "      <td>123.430000</td>\n",
              "      <td>125.839996</td>\n",
              "      <td>122.309998</td>\n",
              "      <td>126.250000</td>\n",
              "      <td>2163600.0</td>\n",
              "    </tr>\n",
              "    <tr>\n",
              "      <th>1</th>\n",
              "      <td>2016-01-06 00:00:00</td>\n",
              "      <td>WLTW</td>\n",
              "      <td>125.239998</td>\n",
              "      <td>119.980003</td>\n",
              "      <td>119.940002</td>\n",
              "      <td>125.540001</td>\n",
              "      <td>2386400.0</td>\n",
              "    </tr>\n",
              "    <tr>\n",
              "      <th>2</th>\n",
              "      <td>2016-01-07 00:00:00</td>\n",
              "      <td>WLTW</td>\n",
              "      <td>116.379997</td>\n",
              "      <td>114.949997</td>\n",
              "      <td>114.930000</td>\n",
              "      <td>119.739998</td>\n",
              "      <td>2489500.0</td>\n",
              "    </tr>\n",
              "    <tr>\n",
              "      <th>3</th>\n",
              "      <td>2016-01-08 00:00:00</td>\n",
              "      <td>WLTW</td>\n",
              "      <td>115.480003</td>\n",
              "      <td>116.620003</td>\n",
              "      <td>113.500000</td>\n",
              "      <td>117.440002</td>\n",
              "      <td>2006300.0</td>\n",
              "    </tr>\n",
              "    <tr>\n",
              "      <th>4</th>\n",
              "      <td>2016-01-11 00:00:00</td>\n",
              "      <td>WLTW</td>\n",
              "      <td>117.010002</td>\n",
              "      <td>114.970001</td>\n",
              "      <td>114.089996</td>\n",
              "      <td>117.330002</td>\n",
              "      <td>1408600.0</td>\n",
              "    </tr>\n",
              "  </tbody>\n",
              "</table>\n",
              "</div>"
            ],
            "text/plain": [
              "                  date symbol        open  ...         low        high     volume\n",
              "0  2016-01-05 00:00:00   WLTW  123.430000  ...  122.309998  126.250000  2163600.0\n",
              "1  2016-01-06 00:00:00   WLTW  125.239998  ...  119.940002  125.540001  2386400.0\n",
              "2  2016-01-07 00:00:00   WLTW  116.379997  ...  114.930000  119.739998  2489500.0\n",
              "3  2016-01-08 00:00:00   WLTW  115.480003  ...  113.500000  117.440002  2006300.0\n",
              "4  2016-01-11 00:00:00   WLTW  117.010002  ...  114.089996  117.330002  1408600.0\n",
              "\n",
              "[5 rows x 7 columns]"
            ]
          },
          "metadata": {
            "tags": []
          },
          "execution_count": 8
        }
      ]
    },
    {
      "cell_type": "code",
      "metadata": {
        "id": "dWL1qdDjIQQG",
        "colab_type": "code",
        "colab": {
          "base_uri": "https://localhost:8080/",
          "height": 419
        },
        "outputId": "ba5f4215-1564-4985-da72-28b28435fd5c"
      },
      "source": [
        "df.dropna(axis=0, inplace=True)\n",
        "df"
      ],
      "execution_count": 18,
      "outputs": [
        {
          "output_type": "execute_result",
          "data": {
            "text/html": [
              "<div>\n",
              "<style scoped>\n",
              "    .dataframe tbody tr th:only-of-type {\n",
              "        vertical-align: middle;\n",
              "    }\n",
              "\n",
              "    .dataframe tbody tr th {\n",
              "        vertical-align: top;\n",
              "    }\n",
              "\n",
              "    .dataframe thead th {\n",
              "        text-align: right;\n",
              "    }\n",
              "</style>\n",
              "<table border=\"1\" class=\"dataframe\">\n",
              "  <thead>\n",
              "    <tr style=\"text-align: right;\">\n",
              "      <th></th>\n",
              "      <th>date</th>\n",
              "      <th>symbol</th>\n",
              "      <th>open</th>\n",
              "      <th>close</th>\n",
              "      <th>low</th>\n",
              "      <th>high</th>\n",
              "      <th>volume</th>\n",
              "    </tr>\n",
              "  </thead>\n",
              "  <tbody>\n",
              "    <tr>\n",
              "      <th>0</th>\n",
              "      <td>2016-01-05 00:00:00</td>\n",
              "      <td>WLTW</td>\n",
              "      <td>123.430000</td>\n",
              "      <td>125.839996</td>\n",
              "      <td>122.309998</td>\n",
              "      <td>126.250000</td>\n",
              "      <td>2163600.0</td>\n",
              "    </tr>\n",
              "    <tr>\n",
              "      <th>1</th>\n",
              "      <td>2016-01-06 00:00:00</td>\n",
              "      <td>WLTW</td>\n",
              "      <td>125.239998</td>\n",
              "      <td>119.980003</td>\n",
              "      <td>119.940002</td>\n",
              "      <td>125.540001</td>\n",
              "      <td>2386400.0</td>\n",
              "    </tr>\n",
              "    <tr>\n",
              "      <th>2</th>\n",
              "      <td>2016-01-07 00:00:00</td>\n",
              "      <td>WLTW</td>\n",
              "      <td>116.379997</td>\n",
              "      <td>114.949997</td>\n",
              "      <td>114.930000</td>\n",
              "      <td>119.739998</td>\n",
              "      <td>2489500.0</td>\n",
              "    </tr>\n",
              "    <tr>\n",
              "      <th>3</th>\n",
              "      <td>2016-01-08 00:00:00</td>\n",
              "      <td>WLTW</td>\n",
              "      <td>115.480003</td>\n",
              "      <td>116.620003</td>\n",
              "      <td>113.500000</td>\n",
              "      <td>117.440002</td>\n",
              "      <td>2006300.0</td>\n",
              "    </tr>\n",
              "    <tr>\n",
              "      <th>4</th>\n",
              "      <td>2016-01-11 00:00:00</td>\n",
              "      <td>WLTW</td>\n",
              "      <td>117.010002</td>\n",
              "      <td>114.970001</td>\n",
              "      <td>114.089996</td>\n",
              "      <td>117.330002</td>\n",
              "      <td>1408600.0</td>\n",
              "    </tr>\n",
              "    <tr>\n",
              "      <th>...</th>\n",
              "      <td>...</td>\n",
              "      <td>...</td>\n",
              "      <td>...</td>\n",
              "      <td>...</td>\n",
              "      <td>...</td>\n",
              "      <td>...</td>\n",
              "      <td>...</td>\n",
              "    </tr>\n",
              "    <tr>\n",
              "      <th>591532</th>\n",
              "      <td>2014-12-04</td>\n",
              "      <td>STZ</td>\n",
              "      <td>94.010002</td>\n",
              "      <td>94.180000</td>\n",
              "      <td>93.690002</td>\n",
              "      <td>94.529999</td>\n",
              "      <td>655700.0</td>\n",
              "    </tr>\n",
              "    <tr>\n",
              "      <th>591533</th>\n",
              "      <td>2014-12-04</td>\n",
              "      <td>SWK</td>\n",
              "      <td>95.050003</td>\n",
              "      <td>94.839996</td>\n",
              "      <td>94.330002</td>\n",
              "      <td>95.290001</td>\n",
              "      <td>1236500.0</td>\n",
              "    </tr>\n",
              "    <tr>\n",
              "      <th>591534</th>\n",
              "      <td>2014-12-04</td>\n",
              "      <td>SWKS</td>\n",
              "      <td>68.000000</td>\n",
              "      <td>69.750000</td>\n",
              "      <td>67.220001</td>\n",
              "      <td>70.139999</td>\n",
              "      <td>6602900.0</td>\n",
              "    </tr>\n",
              "    <tr>\n",
              "      <th>591535</th>\n",
              "      <td>2014-12-04</td>\n",
              "      <td>SWN</td>\n",
              "      <td>30.600000</td>\n",
              "      <td>30.590000</td>\n",
              "      <td>30.379999</td>\n",
              "      <td>30.969999</td>\n",
              "      <td>6404600.0</td>\n",
              "    </tr>\n",
              "    <tr>\n",
              "      <th>591536</th>\n",
              "      <td>2014-12-04</td>\n",
              "      <td>SYK</td>\n",
              "      <td>94.120003</td>\n",
              "      <td>94.379997</td>\n",
              "      <td>93.919998</td>\n",
              "      <td>95.010002</td>\n",
              "      <td>617500.0</td>\n",
              "    </tr>\n",
              "  </tbody>\n",
              "</table>\n",
              "<p>591537 rows × 7 columns</p>\n",
              "</div>"
            ],
            "text/plain": [
              "                       date symbol  ...        high     volume\n",
              "0       2016-01-05 00:00:00   WLTW  ...  126.250000  2163600.0\n",
              "1       2016-01-06 00:00:00   WLTW  ...  125.540001  2386400.0\n",
              "2       2016-01-07 00:00:00   WLTW  ...  119.739998  2489500.0\n",
              "3       2016-01-08 00:00:00   WLTW  ...  117.440002  2006300.0\n",
              "4       2016-01-11 00:00:00   WLTW  ...  117.330002  1408600.0\n",
              "...                     ...    ...  ...         ...        ...\n",
              "591532           2014-12-04    STZ  ...   94.529999   655700.0\n",
              "591533           2014-12-04    SWK  ...   95.290001  1236500.0\n",
              "591534           2014-12-04   SWKS  ...   70.139999  6602900.0\n",
              "591535           2014-12-04    SWN  ...   30.969999  6404600.0\n",
              "591536           2014-12-04    SYK  ...   95.010002   617500.0\n",
              "\n",
              "[591537 rows x 7 columns]"
            ]
          },
          "metadata": {
            "tags": []
          },
          "execution_count": 18
        }
      ]
    },
    {
      "cell_type": "code",
      "metadata": {
        "id": "USn2nZlgIYpd",
        "colab_type": "code",
        "colab": {
          "base_uri": "https://localhost:8080/",
          "height": 34
        },
        "outputId": "6ecd3ce4-2662-4ac0-e816-0f9771b85f05"
      },
      "source": [
        "amzn = df[df['symbol']=='AMZN']\n",
        "amzn_stock_prices = amzn.close.values.astype('float32')\n",
        "amzn_stock_prices = amzn_stock_prices.reshape(1240, 1)\n",
        "amzn_stock_prices.shape"
      ],
      "execution_count": 21,
      "outputs": [
        {
          "output_type": "execute_result",
          "data": {
            "text/plain": [
              "(1240, 1)"
            ]
          },
          "metadata": {
            "tags": []
          },
          "execution_count": 21
        }
      ]
    },
    {
      "cell_type": "code",
      "metadata": {
        "id": "PXodGC1GMMb6",
        "colab_type": "code",
        "colab": {
          "base_uri": "https://localhost:8080/",
          "height": 419
        },
        "outputId": "776895e4-117f-4804-ee1f-be8a1e1fa20c"
      },
      "source": [
        "amzn"
      ],
      "execution_count": 22,
      "outputs": [
        {
          "output_type": "execute_result",
          "data": {
            "text/html": [
              "<div>\n",
              "<style scoped>\n",
              "    .dataframe tbody tr th:only-of-type {\n",
              "        vertical-align: middle;\n",
              "    }\n",
              "\n",
              "    .dataframe tbody tr th {\n",
              "        vertical-align: top;\n",
              "    }\n",
              "\n",
              "    .dataframe thead th {\n",
              "        text-align: right;\n",
              "    }\n",
              "</style>\n",
              "<table border=\"1\" class=\"dataframe\">\n",
              "  <thead>\n",
              "    <tr style=\"text-align: right;\">\n",
              "      <th></th>\n",
              "      <th>date</th>\n",
              "      <th>symbol</th>\n",
              "      <th>open</th>\n",
              "      <th>close</th>\n",
              "      <th>low</th>\n",
              "      <th>high</th>\n",
              "      <th>volume</th>\n",
              "    </tr>\n",
              "  </thead>\n",
              "  <tbody>\n",
              "    <tr>\n",
              "      <th>284</th>\n",
              "      <td>2010-01-04</td>\n",
              "      <td>AMZN</td>\n",
              "      <td>136.250000</td>\n",
              "      <td>133.899994</td>\n",
              "      <td>133.139999</td>\n",
              "      <td>136.610001</td>\n",
              "      <td>7599900.0</td>\n",
              "    </tr>\n",
              "    <tr>\n",
              "      <th>751</th>\n",
              "      <td>2010-01-05</td>\n",
              "      <td>AMZN</td>\n",
              "      <td>133.429993</td>\n",
              "      <td>134.690002</td>\n",
              "      <td>131.809998</td>\n",
              "      <td>135.479996</td>\n",
              "      <td>8851900.0</td>\n",
              "    </tr>\n",
              "    <tr>\n",
              "      <th>1219</th>\n",
              "      <td>2010-01-06</td>\n",
              "      <td>AMZN</td>\n",
              "      <td>134.600006</td>\n",
              "      <td>132.250000</td>\n",
              "      <td>131.649994</td>\n",
              "      <td>134.729996</td>\n",
              "      <td>7178800.0</td>\n",
              "    </tr>\n",
              "    <tr>\n",
              "      <th>1687</th>\n",
              "      <td>2010-01-07</td>\n",
              "      <td>AMZN</td>\n",
              "      <td>132.009995</td>\n",
              "      <td>130.000000</td>\n",
              "      <td>128.800003</td>\n",
              "      <td>132.320007</td>\n",
              "      <td>11030200.0</td>\n",
              "    </tr>\n",
              "    <tr>\n",
              "      <th>2155</th>\n",
              "      <td>2010-01-08</td>\n",
              "      <td>AMZN</td>\n",
              "      <td>130.559998</td>\n",
              "      <td>133.520004</td>\n",
              "      <td>129.029999</td>\n",
              "      <td>133.679993</td>\n",
              "      <td>9830500.0</td>\n",
              "    </tr>\n",
              "    <tr>\n",
              "      <th>...</th>\n",
              "      <td>...</td>\n",
              "      <td>...</td>\n",
              "      <td>...</td>\n",
              "      <td>...</td>\n",
              "      <td>...</td>\n",
              "      <td>...</td>\n",
              "      <td>...</td>\n",
              "    </tr>\n",
              "    <tr>\n",
              "      <th>589198</th>\n",
              "      <td>2014-11-28</td>\n",
              "      <td>AMZN</td>\n",
              "      <td>336.029999</td>\n",
              "      <td>338.640015</td>\n",
              "      <td>336.029999</td>\n",
              "      <td>341.260010</td>\n",
              "      <td>3051800.0</td>\n",
              "    </tr>\n",
              "    <tr>\n",
              "      <th>589688</th>\n",
              "      <td>2014-12-01</td>\n",
              "      <td>AMZN</td>\n",
              "      <td>338.119995</td>\n",
              "      <td>326.000000</td>\n",
              "      <td>325.929993</td>\n",
              "      <td>340.640015</td>\n",
              "      <td>4944900.0</td>\n",
              "    </tr>\n",
              "    <tr>\n",
              "      <th>590178</th>\n",
              "      <td>2014-12-02</td>\n",
              "      <td>AMZN</td>\n",
              "      <td>327.500000</td>\n",
              "      <td>326.309998</td>\n",
              "      <td>323.250000</td>\n",
              "      <td>327.929993</td>\n",
              "      <td>2790300.0</td>\n",
              "    </tr>\n",
              "    <tr>\n",
              "      <th>590668</th>\n",
              "      <td>2014-12-03</td>\n",
              "      <td>AMZN</td>\n",
              "      <td>325.730011</td>\n",
              "      <td>316.500000</td>\n",
              "      <td>314.359985</td>\n",
              "      <td>326.769989</td>\n",
              "      <td>5681000.0</td>\n",
              "    </tr>\n",
              "    <tr>\n",
              "      <th>591158</th>\n",
              "      <td>2014-12-04</td>\n",
              "      <td>AMZN</td>\n",
              "      <td>315.529999</td>\n",
              "      <td>316.929993</td>\n",
              "      <td>313.470001</td>\n",
              "      <td>318.589996</td>\n",
              "      <td>3290300.0</td>\n",
              "    </tr>\n",
              "  </tbody>\n",
              "</table>\n",
              "<p>1240 rows × 7 columns</p>\n",
              "</div>"
            ],
            "text/plain": [
              "              date symbol        open  ...         low        high      volume\n",
              "284     2010-01-04   AMZN  136.250000  ...  133.139999  136.610001   7599900.0\n",
              "751     2010-01-05   AMZN  133.429993  ...  131.809998  135.479996   8851900.0\n",
              "1219    2010-01-06   AMZN  134.600006  ...  131.649994  134.729996   7178800.0\n",
              "1687    2010-01-07   AMZN  132.009995  ...  128.800003  132.320007  11030200.0\n",
              "2155    2010-01-08   AMZN  130.559998  ...  129.029999  133.679993   9830500.0\n",
              "...            ...    ...         ...  ...         ...         ...         ...\n",
              "589198  2014-11-28   AMZN  336.029999  ...  336.029999  341.260010   3051800.0\n",
              "589688  2014-12-01   AMZN  338.119995  ...  325.929993  340.640015   4944900.0\n",
              "590178  2014-12-02   AMZN  327.500000  ...  323.250000  327.929993   2790300.0\n",
              "590668  2014-12-03   AMZN  325.730011  ...  314.359985  326.769989   5681000.0\n",
              "591158  2014-12-04   AMZN  315.529999  ...  313.470001  318.589996   3290300.0\n",
              "\n",
              "[1240 rows x 7 columns]"
            ]
          },
          "metadata": {
            "tags": []
          },
          "execution_count": 22
        }
      ]
    },
    {
      "cell_type": "code",
      "metadata": {
        "id": "Run7k0I-MXLx",
        "colab_type": "code",
        "colab": {
          "base_uri": "https://localhost:8080/",
          "height": 265
        },
        "outputId": "a8cc0c21-42ac-46a2-bfa0-82301021b373"
      },
      "source": [
        "plt.plot(amzn_stock_prices)\n",
        "plt.show()\n",
        "\n",
        "scaler = MinMaxScaler(feature_range=(0, 1))\n",
        "amzn_stock_prices = scaler.fit_transform(amzn_stock_prices)"
      ],
      "execution_count": 24,
      "outputs": [
        {
          "output_type": "display_data",
          "data": {
            "image/png": "[encoded data removed]",
            "text/plain": [
              "<Figure size 432x288 with 1 Axes>"
            ]
          },
          "metadata": {
            "tags": [],
            "needs_background": "light"
          }
        }
      ]
    },
    {
      "cell_type": "code",
      "metadata": {
        "id": "fCLHp67QM2I0",
        "colab_type": "code",
        "colab": {
          "base_uri": "https://localhost:8080/",
          "height": 34
        },
        "outputId": "58665259-8707-4105-b0a3-f5bebab1c314"
      },
      "source": [
        "train_size = int(len(amzn_stock_prices) * 0.80)\n",
        "test_size = len(amzn_stock_prices) - train_size\n",
        "train, test = amzn_stock_prices[0:train_size,:], amzn_stock_prices[train_size:len(amzn_stock_prices),:]\n",
        "print(len(train), len(test))"
      ],
      "execution_count": 25,
      "outputs": [
        {
          "output_type": "stream",
          "text": [
            "992 248\n"
          ],
          "name": "stdout"
        }
      ]
    },
    {
      "cell_type": "code",
      "metadata": {
        "id": "hFGdjqtINNvq",
        "colab_type": "code",
        "colab": {}
      },
      "source": [
        "# convert an array of values into a dataset matrix\n",
        "def create(dataset, look_back=1):\n",
        "\tdataX, dataY = [], []\n",
        "\tfor i in range(len(dataset)-look_back-1):\n",
        "\t\ta = dataset[i:(i+look_back), 0]\n",
        "\t\tdataX.append(a)\n",
        "\t\tdataY.append(dataset[i + look_back, 0])\n",
        "\treturn np.array(dataX), np.array(dataY)"
      ],
      "execution_count": 26,
      "outputs": []
    },
    {
      "cell_type": "code",
      "metadata": {
        "id": "RDzQNfpNNXUQ",
        "colab_type": "code",
        "colab": {}
      },
      "source": [
        "# reshape into X=t and Y=t+1\n",
        "look_back = 1\n",
        "trainX, trainY = create(train, look_back)\n",
        "testX, testY = create(test, look_back)"
      ],
      "execution_count": 27,
      "outputs": []
    },
    {
      "cell_type": "code",
      "metadata": {
        "id": "42DPdEh-Na3Q",
        "colab_type": "code",
        "colab": {}
      },
      "source": [
        "trainX = np.reshape(trainX, (trainX.shape[0], 1, trainX.shape[1]))\n",
        "testX = np.reshape(testX, (testX.shape[0], 1, testX.shape[1]))"
      ],
      "execution_count": 28,
      "outputs": []
    },
    {
      "cell_type": "code",
      "metadata": {
        "id": "PDjKQP-RNd_2",
        "colab_type": "code",
        "colab": {
          "base_uri": "https://localhost:8080/",
          "height": 156
        },
        "outputId": "f48337da-7597-41ec-99bf-41c1a1e9970d"
      },
      "source": [
        "#Step 2 Build Model\n",
        "model = Sequential()\n",
        "\n",
        "model.add(LSTM(\n",
        "    input_dim=1,\n",
        "    output_dim=50,\n",
        "    return_sequences=True))\n",
        "model.add(Dropout(0.2))\n",
        "\n",
        "model.add(LSTM(\n",
        "    100,\n",
        "    return_sequences=False))\n",
        "model.add(Dropout(0.2))\n",
        "\n",
        "model.add(Dense(\n",
        "    output_dim=1))\n",
        "model.add(Activation('linear'))\n",
        "\n",
        "start = time.time()\n",
        "model.compile(loss='mse', optimizer='rmsprop')\n",
        "print ('compilation time : ', time.time() - start)"
      ],
      "execution_count": 29,
      "outputs": [
        {
          "output_type": "stream",
          "text": [
            "/usr/local/lib/python3.6/dist-packages/ipykernel_launcher.py:7: UserWarning: The `input_dim` and `input_length` arguments in recurrent layers are deprecated. Use `input_shape` instead.\n",
            "  import sys\n",
            "/usr/local/lib/python3.6/dist-packages/ipykernel_launcher.py:7: UserWarning: Update your `LSTM` call to the Keras 2 API: `LSTM(return_sequences=True, input_shape=(None, 1), units=50)`\n",
            "  import sys\n"
          ],
          "name": "stderr"
        },
        {
          "output_type": "stream",
          "text": [
            "compilation time :  0.011009931564331055\n"
          ],
          "name": "stdout"
        },
        {
          "output_type": "stream",
          "text": [
            "/usr/local/lib/python3.6/dist-packages/ipykernel_launcher.py:16: UserWarning: Update your `Dense` call to the Keras 2 API: `Dense(units=1)`\n",
            "  app.launch_new_instance()\n"
          ],
          "name": "stderr"
        }
      ]
    },
    {
      "cell_type": "code",
      "metadata": {
        "id": "71uvlGHFNjjM",
        "colab_type": "code",
        "colab": {
          "base_uri": "https://localhost:8080/",
          "height": 445
        },
        "outputId": "77602421-36fc-4c99-945e-74634f9992e9"
      },
      "source": [
        "model.fit(\n",
        "    trainX,\n",
        "    trainY,\n",
        "    batch_size=128,\n",
        "    nb_epoch=10,\n",
        "    validation_split=0.05)"
      ],
      "execution_count": 30,
      "outputs": [
        {
          "output_type": "stream",
          "text": [
            "/usr/local/lib/python3.6/dist-packages/ipykernel_launcher.py:6: UserWarning: The `nb_epoch` argument in `fit` has been renamed `epochs`.\n",
            "  \n"
          ],
          "name": "stderr"
        },
        {
          "output_type": "stream",
          "text": [
            "Train on 940 samples, validate on 50 samples\n",
            "Epoch 1/10\n",
            "940/940 [==============================] - 1s 2ms/step - loss: 0.1073 - val_loss: 0.4738\n",
            "Epoch 2/10\n",
            "940/940 [==============================] - 0s 82us/step - loss: 0.0633 - val_loss: 0.3221\n",
            "Epoch 3/10\n",
            "940/940 [==============================] - 0s 74us/step - loss: 0.0334 - val_loss: 0.1985\n",
            "Epoch 4/10\n",
            "940/940 [==============================] - 0s 78us/step - loss: 0.0190 - val_loss: 0.1270\n",
            "Epoch 5/10\n",
            "940/940 [==============================] - 0s 76us/step - loss: 0.0155 - val_loss: 0.0929\n",
            "Epoch 6/10\n",
            "940/940 [==============================] - 0s 66us/step - loss: 0.0134 - val_loss: 0.0803\n",
            "Epoch 7/10\n",
            "940/940 [==============================] - 0s 66us/step - loss: 0.0115 - val_loss: 0.0593\n",
            "Epoch 8/10\n",
            "940/940 [==============================] - 0s 69us/step - loss: 0.0090 - val_loss: 0.0453\n",
            "Epoch 9/10\n",
            "940/940 [==============================] - 0s 66us/step - loss: 0.0067 - val_loss: 0.0174\n",
            "Epoch 10/10\n",
            "940/940 [==============================] - 0s 79us/step - loss: 0.0043 - val_loss: 0.0066\n"
          ],
          "name": "stdout"
        },
        {
          "output_type": "execute_result",
          "data": {
            "text/plain": [
              "<keras.callbacks.callbacks.History at 0x7fcf084b6668>"
            ]
          },
          "metadata": {
            "tags": []
          },
          "execution_count": 30
        }
      ]
    },
    {
      "cell_type": "code",
      "metadata": {
        "id": "Gz7U0aXGNuIZ",
        "colab_type": "code",
        "colab": {
          "base_uri": "https://localhost:8080/",
          "height": 435
        },
        "outputId": "97a3b13b-6715-49a3-b932-0613d72bc775"
      },
      "source": [
        "def plot_results_multiple(predicted_data, true_data,length):\n",
        "    plt.plot(scaler.inverse_transform(true_data.reshape(-1, 1))[length:])\n",
        "    plt.plot(scaler.inverse_transform(np.array(predicted_data).reshape(-1, 1))[length:])\n",
        "    plt.show()\n",
        "    \n",
        "#predict lenght consecutive values from a real one\n",
        "def predict_sequences_multiple(model, firstValue,length):\n",
        "    prediction_seqs = []\n",
        "    curr_frame = firstValue\n",
        "    \n",
        "    for i in range(length): \n",
        "        predicted = []        \n",
        "        \n",
        "        print(model.predict(curr_frame[newaxis,:,:]))\n",
        "        predicted.append(model.predict(curr_frame[newaxis,:,:])[0,0])\n",
        "        \n",
        "        curr_frame = curr_frame[0:]\n",
        "        curr_frame = np.insert(curr_frame[0:], i+1, predicted[-1], axis=0)\n",
        "        \n",
        "        prediction_seqs.append(predicted[-1])\n",
        "        \n",
        "    return prediction_seqs\n",
        "\n",
        "predict_length=5\n",
        "predictions = predict_sequences_multiple(model, testX[0], predict_length)\n",
        "print(scaler.inverse_transform(np.array(predictions).reshape(-1, 1)))\n",
        "plot_results_multiple(predictions, testY, predict_length)"
      ],
      "execution_count": 31,
      "outputs": [
        {
          "output_type": "stream",
          "text": [
            "[[0.8323213]]\n",
            "[[1.981662]]\n",
            "[[4.545953]]\n",
            "[[9.33472]]\n",
            "[[13.180516]]\n",
            "[[ 357.008 ]\n",
            " [ 700.0172]\n",
            " [1465.3042]\n",
            " [2894.4639]\n",
            " [4042.2034]]\n"
          ],
          "name": "stdout"
        },
        {
          "output_type": "display_data",
          "data": {
            "image/png": "[encoded data removed]",
            "text/plain": [
              "<Figure size 432x288 with 1 Axes>"
            ]
          },
          "metadata": {
            "tags": [],
            "needs_background": "light"
          }
        }
      ]
    },
    {
      "cell_type": "code",
      "metadata": {
        "id": "bOfgN87uN7QV",
        "colab_type": "code",
        "colab": {}
      },
      "source": [
        ""
      ],
      "execution_count": null,
      "outputs": []
    }
  ]
}